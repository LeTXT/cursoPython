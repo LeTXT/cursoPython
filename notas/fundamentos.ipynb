{
 "cells": [
  {
   "cell_type": "markdown",
   "metadata": {
    "vscode": {
     "languageId": "plaintext"
    }
   },
   "source": [
    "# Primeiros Exemplos"
   ]
  },
  {
   "cell_type": "code",
   "execution_count": 4,
   "metadata": {},
   "outputs": [
    {
     "name": "stdout",
     "output_type": "stream",
     "text": [
      "Primeiro programa\n",
      "Help on built-in function print in module builtins:\n",
      "\n",
      "print(*args, sep=' ', end='\\n', file=None, flush=False)\n",
      "    Prints the values to a stream, or to sys.stdout by default.\n",
      "\n",
      "    sep\n",
      "      string inserted between values, default a space.\n",
      "    end\n",
      "      string appended after the last value, default a newline.\n",
      "    file\n",
      "      a file-like object (stream); defaults to the current sys.stdout.\n",
      "    flush\n",
      "      whether to forcibly flush the stream.\n",
      "\n"
     ]
    }
   ],
   "source": [
    "print('Primeiro programa')\n",
    "1 \\\n",
    "+ 2\n",
    "help(print)"
   ]
  },
  {
   "cell_type": "code",
   "execution_count": 7,
   "metadata": {},
   "outputs": [
    {
     "data": {
      "text/plain": [
       "15"
      ]
     },
     "execution_count": 7,
     "metadata": {},
     "output_type": "execute_result"
    }
   ],
   "source": [
    "1 + 2 + 3\n",
    "4 + 5 + 6"
   ]
  },
  {
   "cell_type": "code",
   "execution_count": 6,
   "metadata": {},
   "outputs": [
    {
     "name": "stdout",
     "output_type": "stream",
     "text": [
      "6\n",
      "15\n"
     ]
    }
   ],
   "source": [
    "print(1 + 2 + 3)\n",
    "print(4 + 5 + 6)"
   ]
  },
  {
   "cell_type": "markdown",
   "metadata": {},
   "source": [
    "# Tipos Básicos"
   ]
  },
  {
   "cell_type": "code",
   "execution_count": 4,
   "metadata": {},
   "outputs": [
    {
     "name": "stdout",
     "output_type": "stream",
     "text": [
      "True\n",
      "False\n",
      "2.2\n",
      "Aqui eu falo na minha lingua!\n",
      "Também funciona.\n",
      "Você é muito muito muito legal!\n",
      "[1, 2, 3]\n",
      "{'nome': 'Pedro', 'idade': 22}\n",
      "None\n"
     ]
    }
   ],
   "source": [
    "print(True)\n",
    "print(False)\n",
    "print(1.2 + 1)\n",
    "print('Aqui eu falo na minha lingua!')\n",
    "print(\"Também funciona.\")\n",
    "print('Você é ' + 3 * 'muito ' + 'legal!')\n",
    "# print(3 + '3') -> ambiguidade\n",
    "print([1, 2, 3]) # chamado de lista\n",
    "print({'nome': 'Pedro', 'idade': 22}) # chamado de dicionário\n",
    "print(None) # ausência de valor"
   ]
  },
  {
   "cell_type": "markdown",
   "metadata": {},
   "source": [
    "# Variáveis"
   ]
  },
  {
   "cell_type": "code",
   "execution_count": 7,
   "metadata": {},
   "outputs": [
    {
     "name": "stdout",
     "output_type": "stream",
     "text": [
      "15.2\n",
      "Agora eu sou uma string!\n"
     ]
    },
    {
     "data": {
      "text/plain": [
       "5.2"
      ]
     },
     "execution_count": 7,
     "metadata": {},
     "output_type": "execute_result"
    }
   ],
   "source": [
    "a = 10 # atribuição # espaço na memória\n",
    "b = 5.2\n",
    "\n",
    "print(a + b) # dinamicamente tipada não é estático\n",
    "\n",
    "a = 'Agora eu sou uma string!'\n",
    "print(a)\n",
    "a\n",
    "b\n",
    "\n",
    "# print(a + b) -> gera ambiguidade\n",
    "# Linguagem fracamente tipada e fortemente tipada, o interpretador do python é fortemente tipado (nomeclatura)\n",
    "\n",
    "# a -> identificador \n",
    "# = -> simbolo de atribuição \n",
    "# 10 -> valor"
   ]
  },
  {
   "cell_type": "markdown",
   "metadata": {},
   "source": [
    "# Comentários"
   ]
  },
  {
   "cell_type": "code",
   "execution_count": null,
   "metadata": {},
   "outputs": [
    {
     "name": "stdout",
     "output_type": "stream",
     "text": [
      "994.25\n",
      "Fim de verdade\n",
      "Agora sim o fim de verdade\n"
     ]
    }
   ],
   "source": [
    "# Minhas variáveis\n",
    "salario = 3450.45\n",
    "despesas = 2456.2\n",
    "\n",
    "\"\"\"\n",
    "A ideia é calcular o\n",
    "quanto vai sobrar no\n",
    "final do mês!\n",
    "\"\"\"\n",
    "print(salario - despesas)\n",
    "\n",
    "# print('Fim')\n",
    "print('Fim de verdade?') # comentário aqui também vale!\n",
    "# melhor criar variaveis com nomeclatura claras do que criar um comentario explicando o que a variavel significa\n",
    "\n",
    "'''\n",
    "A ideia é calcular o\n",
    "quanto vai sobrar no\n",
    "final do mês!\n",
    "'''\n",
    "print('Agora sim o fim de verdade')"
   ]
  },
  {
   "cell_type": "markdown",
   "metadata": {},
   "source": [
    "# Operadores Aritméticos"
   ]
  },
  {
   "cell_type": "code",
   "execution_count": null,
   "metadata": {},
   "outputs": [],
   "source": [
    "print(2 + 3) # soma\n",
    "print(4 - 7) # subtração\n",
    "print(2 * 5.3) # multiplicação\n",
    "print(9.4 / 3) # divisão\n",
    "print(9.4 // 3) # divisão inteira\n",
    "print(2 ** 8) # potência\n",
    "print(10 % 3) # resto da divisão (módulo)\n",
    "\n",
    "# operadores são binários precisa de dois operando\n",
    "# a anotação é conhecida como infix\n",
    "\n",
    "a = 12\n",
    "b = a\n",
    "print(a + b)"
   ]
  },
  {
   "cell_type": "code",
   "execution_count": null,
   "metadata": {},
   "outputs": [
    {
     "name": "stdout",
     "output_type": "stream",
     "text": [
      "71.18\n"
     ]
    }
   ],
   "source": [
    "# Minhas variáveis\n",
    "salario = 3450.45\n",
    "despesas = 2456.2\n",
    "\n",
    "percentual = despesas * 100 / salario\n",
    "percentual"
   ]
  },
  {
   "cell_type": "markdown",
   "metadata": {},
   "source": [
    "# Operadores Relacionais"
   ]
  },
  {
   "cell_type": "code",
   "execution_count": null,
   "metadata": {},
   "outputs": [
    {
     "data": {
      "text/plain": [
       "False"
      ]
     },
     "execution_count": 3,
     "metadata": {},
     "output_type": "execute_result"
    }
   ],
   "source": [
    "3 > 4\n",
    "4 >= 3\n",
    "1 < 2\n",
    "3 <= 1\n",
    "3 != 2\n",
    "3 == 3\n",
    "2 == '2' # tipos diferentes inteiro diferente de string"
   ]
  },
  {
   "cell_type": "markdown",
   "metadata": {},
   "source": [
    "# Operadores de Atribuição"
   ]
  },
  {
   "cell_type": "code",
   "execution_count": 7,
   "metadata": {},
   "outputs": [
    {
     "name": "stdout",
     "output_type": "stream",
     "text": [
      "10\n",
      "15\n",
      "12\n",
      "24\n",
      "6.0\n",
      "2.0\n",
      "256.0\n",
      "1.0\n"
     ]
    }
   ],
   "source": [
    "a = 3 # local de memória retulado, deu um nome ao local de memória\n",
    "a = a + 7\n",
    "print(a)\n",
    "\n",
    "# a = 5\n",
    "a += 5 # a = a + 5 # atribuição aditiva\n",
    "print(a)\n",
    "\n",
    "a -= 3 # atribuição subtrativa\n",
    "print(a)\n",
    "\n",
    "a *= 2 # atribuição multiplicativa\n",
    "print(a)\n",
    "\n",
    "a /= 4 # atribuição divisiva\n",
    "print(a)\n",
    "\n",
    "a %= 4 # atribuição modular\n",
    "print(a)\n",
    "\n",
    "a **= 8 # atribuição exponencial\n",
    "print(a)\n",
    "\n",
    "a //= 256\n",
    "print(a)"
   ]
  },
  {
   "cell_type": "markdown",
   "metadata": {},
   "source": [
    "# Operadores Lógicos"
   ]
  },
  {
   "cell_type": "code",
   "execution_count": 15,
   "metadata": {},
   "outputs": [
    {
     "data": {
      "text/plain": [
       "False"
      ]
     },
     "execution_count": 15,
     "metadata": {},
     "output_type": "execute_result"
    }
   ],
   "source": [
    "True or False\n",
    "7 != 3 and 2 > 3\n",
    "\n",
    "# Tabela verdade do AND\n",
    "True and True\n",
    "True and False\n",
    "False and True\n",
    "False and False\n",
    "True and True and False and True and True and True\n",
    "\n",
    "# and é um operador binário\n",
    "\n",
    "# Tabela verdade do OR\n",
    "True or True\n",
    "True or False\n",
    "False or True\n",
    "False or False\n",
    "False or False or True or False or False or False\n",
    "\n",
    "# Tabela verdade do XOR\n",
    "True != True\n",
    "True != False\n",
    "False != True\n",
    "False != False\n",
    "\n",
    "# um tem que ser diferente de outro\n",
    "\n",
    "# Operador de Negação (unário)\n",
    "not True\n",
    "not False\n",
    "\n",
    "not 0\n",
    "not 1\n",
    "not not -1\n",
    "not not True\n",
    "\n",
    "# Cuidado! \n",
    "True & False # Operador bit a bit\n",
    "False | True\n",
    "True ^ False\n",
    "\n",
    "# AND Bit-a-bit\n",
    "# 3 = 11\n",
    "# 2 = 10\n",
    "# _ = 10\n",
    "3 & 2\n",
    "\n",
    "# OR Bit-a-bit\n",
    "# 3 = 11\n",
    "# 2 = 10\n",
    "# _ = 11\n",
    "3 | 2\n",
    "\n",
    "# XOR Bit-a-bit\n",
    "# 3 = 11\n",
    "# 2 = 10\n",
    "# _ = 01\n",
    "3 ^ 2\n",
    "\n",
    "# Um pouco de realidade\n",
    "saldo = 1000\n",
    "salario = 4000\n",
    "despesas = 3900\n",
    "\n",
    "saldo_positivo = saldo > 0\n",
    "despesas_controladas = salario - despesas >= 0.2 * salario\n",
    "\n",
    "meta = saldo_positivo and despesas_controladas\n",
    "meta"
   ]
  },
  {
   "cell_type": "code",
   "execution_count": null,
   "metadata": {},
   "outputs": [
    {
     "name": "stdout",
     "output_type": "stream",
     "text": [
      "Tv50=False Tv32=True Sorvete=True Saudável=False\n"
     ]
    }
   ],
   "source": [
    "# Desafio Operadores Lógicos\n",
    "\n",
    "# Os Trabalhos\n",
    "trabalho_terca = True\n",
    "trabalho_quinta = False\n",
    "\n",
    "'''\n",
    "- Confirmando os 2: TV 50' + Sorvete\n",
    "- Confirmando apenas 1: Tv 32' + Sorvete\n",
    "- Nenhum confirmado: Fica em casa\n",
    "'''\n",
    "tv_50 = trabalho_terca and trabalho_quinta\n",
    "tv_32 = trabalho_terca != trabalho_quinta #XOR\n",
    "sorvete = trabalho_terca or trabalho_quinta\n",
    "mais_saudavel = not sorvete\n",
    "\n",
    "print(f'Tv50={tv_50} Tv32={tv_32} Sorvete={sorvete} Saudável={mais_saudavel}')\n",
    "\n",
    "# '{}, {} = {}'.format(1, False, 'resultado')"
   ]
  },
  {
   "cell_type": "markdown",
   "metadata": {},
   "source": [
    "# Operadores Unários"
   ]
  },
  {
   "cell_type": "code",
   "execution_count": 1,
   "metadata": {},
   "outputs": [
    {
     "data": {
      "text/plain": [
       "True"
      ]
     },
     "execution_count": 1,
     "metadata": {},
     "output_type": "execute_result"
    }
   ],
   "source": [
    "a = 3\n",
    "# a++\n",
    "# a += 1\n",
    "# a\n",
    "# a--\n",
    "++a\n",
    "++a\n",
    "-a # tranforma o valor em negativo, mas, não atribui o valor na variável, váriavel a continuando sendo a = 3\n",
    "# a = -a # torna o valor de a negativo e atribui o valor na váriavel\n",
    "+a # atribuição aritmética\n",
    "\n",
    "not 0\n",
    "not 1\n",
    "not -2\n",
    "not False\n",
    "not not True"
   ]
  },
  {
   "cell_type": "markdown",
   "metadata": {},
   "source": [
    "# Operadores Ternários"
   ]
  },
  {
   "cell_type": "code",
   "execution_count": 2,
   "metadata": {},
   "outputs": [
    {
     "name": "stdout",
     "output_type": "stream",
     "text": [
      "Hoje estou com as roupas molhadas.\n",
      "Hoje estou com as roupas molhadas.\n"
     ]
    }
   ],
   "source": [
    "esta_chovendo = True\n",
    "# nesse caso, secas seria falso e molhados verdadeiro, por estar mais perto da expressão \n",
    "print('Hoje estou com as roupas ' + ('secas', 'molhadas.')[esta_chovendo])\n",
    "\n",
    "# english like # é uma forma de ler o python em ingles\n",
    "print('Hoje estou com as roupas ' + ('molhadas.' if esta_chovendo else 'secas.'))"
   ]
  },
  {
   "cell_type": "markdown",
   "metadata": {},
   "source": [
    "# Mais Operadores"
   ]
  },
  {
   "cell_type": "code",
   "execution_count": null,
   "metadata": {},
   "outputs": [],
   "source": [
    "# Operador de Membro\n",
    "lista = [1, 2, 3, 'Ana', 'Carla']\n",
    "2 in lista\n",
    "'Ana' not in lista\n",
    "\n",
    "# Operador de Identidade\n",
    "x = 3\n",
    "y = x\n",
    "z = 3\n",
    "x is y\n",
    "y is z\n",
    "x is not z\n",
    "\n",
    "#Python tem uma procupação de ter um código legivel, deve ser ler com naturalidade\n",
    "\n",
    "lista_a = [1, 2, 3]\n",
    "lista_b = lista_a\n",
    "lista_c = [1, 2, 3]\n",
    "\n",
    "lista_a is lista_b # true\n",
    "lista_b is lista_c # false\n",
    "lista_a is not lista_c #true"
   ]
  },
  {
   "cell_type": "markdown",
   "metadata": {},
   "source": [
    "# Builtins"
   ]
  },
  {
   "cell_type": "code",
   "execution_count": null,
   "metadata": {},
   "outputs": [],
   "source": [
    "# type()\n",
    "__builtins__.type('Fala Galera!')\n",
    "__builtins__.print(10 / 3)\n",
    "\n",
    "# __builtins__.help(__builtins__.dir)\n",
    "\n",
    "# a = 7\n",
    "# import math\n",
    "# dir()\n",
    "# dir(__builtins__)\n",
    "\n",
    "nome = 'João da Silva'\n",
    "type(nome)\n",
    "__builtins__.len(nome)\n",
    "\n",
    "dir()"
   ]
  },
  {
   "cell_type": "markdown",
   "metadata": {},
   "source": [
    "# Conversão de Tipos"
   ]
  },
  {
   "cell_type": "code",
   "execution_count": null,
   "metadata": {},
   "outputs": [
    {
     "name": "stdout",
     "output_type": "stream",
     "text": [
      "<class 'int'>\n",
      "<class 'str'>\n",
      "5\n",
      "23\n"
     ]
    },
    {
     "data": {
      "text/plain": [
       "str"
      ]
     },
     "execution_count": 1,
     "metadata": {},
     "output_type": "execute_result"
    }
   ],
   "source": [
    "2 + 3\n",
    "'2' + '3'\n",
    "# 2 + '3' # resiste a tentação de concatenar\n",
    "# print(2 + '3')\n",
    "\n",
    "a = 2\n",
    "b = '3'\n",
    "\n",
    "print(type(a))\n",
    "print(type(b))\n",
    "\n",
    "print(a + int(b))\n",
    "print(str(a) + b)\n",
    "\n",
    "type(str(a))\n",
    "\n",
    "# print(2 + int('3.4')) # ambuiguidade"
   ]
  },
  {
   "cell_type": "markdown",
   "metadata": {},
   "source": [
    "# Coerção Automática"
   ]
  },
  {
   "cell_type": "code",
   "execution_count": 1,
   "metadata": {},
   "outputs": [
    {
     "data": {
      "text/plain": [
       "float"
      ]
     },
     "execution_count": 1,
     "metadata": {},
     "output_type": "execute_result"
    }
   ],
   "source": [
    "10 / 2 # sempre gera um tipo float\n",
    "type(10 / 2)\n",
    "10 / 3\n",
    "10 // 3\n",
    "type(10 // 3)\n",
    "10 // 3.3\n",
    "type(10 // 3.3)\n",
    "10 / 2.5\n",
    "2 + True\n",
    "2 + False\n",
    "type(1 + 2)\n",
    "type(1 + 2.5)"
   ]
  },
  {
   "cell_type": "markdown",
   "metadata": {},
   "source": [
    "# Tipos Numéricos"
   ]
  },
  {
   "cell_type": "code",
   "execution_count": null,
   "metadata": {},
   "outputs": [
    {
     "data": {
      "text/plain": [
       "5"
      ]
     },
     "execution_count": 5,
     "metadata": {},
     "output_type": "execute_result"
    }
   ],
   "source": [
    "dir(int)\n",
    "dir(float) # armazena mais informação\n",
    "\n",
    "a = 5\n",
    "b = 2.5\n",
    "a / b\n",
    "a + b\n",
    "a * b\n",
    "\n",
    "type(a)\n",
    "type(b)\n",
    "type(a - b)\n",
    "\n",
    "b.is_integer()\n",
    "5.0.is_integer()\n",
    "\n",
    "dir(int)\n",
    "int.__add__(2, 3)\n",
    "2 + 3\n",
    "\n",
    "(-2).__abs__() # função interna do int\n",
    "abs(-2) # dentro do builtins\n",
    "\n",
    "(-3.6).__abs__()\n",
    "dir(float)\n",
    "abs(-3.6)"
   ]
  },
  {
   "cell_type": "markdown",
   "metadata": {},
   "source": [
    "# Decimal"
   ]
  },
  {
   "cell_type": "code",
   "execution_count": null,
   "metadata": {},
   "outputs": [
    {
     "data": {
      "text/plain": [
       "Decimal('3.300000000')"
      ]
     },
     "execution_count": 8,
     "metadata": {},
     "output_type": "execute_result"
    }
   ],
   "source": [
    "# 1.1 + 2.2\n",
    "# decimal é mais preciso\n",
    "from decimal import Decimal, getcontext\n",
    "Decimal(1) / Decimal(7)\n",
    "\n",
    "getcontext().prec = 4\n",
    "Decimal(1) / Decimal(7)\n",
    "Decimal.max(Decimal(1), Decimal(7))\n",
    "dir(Decimal)\n",
    "\n",
    "1.1 + 2.2\n",
    "getcontext().prec = 10\n",
    "Decimal(1.1) + Decimal(2.2)\n",
    "\n",
    "import decimal\n",
    "dir(decimal)\n",
    "dir()"
   ]
  },
  {
   "cell_type": "markdown",
   "metadata": {},
   "source": [
    "# Tipo String"
   ]
  },
  {
   "cell_type": "code",
   "execution_count": 10,
   "metadata": {},
   "outputs": [
    {
     "name": "stdout",
     "output_type": "stream",
     "text": [
      "Texto com múltiplas\n",
      "\t... linhas\n",
      "Texto com múltiplas\n",
      "... linhas\n"
     ]
    },
    {
     "data": {
      "text/plain": [
       "'Também é possível\\n... com 3 aspas simples'"
      ]
     },
     "execution_count": 10,
     "metadata": {},
     "output_type": "execute_result"
    }
   ],
   "source": [
    "dir(str)\n",
    "nome = 'Saulo Pedro'\n",
    "nome\n",
    "nome[0]\n",
    "# nome[0] = 'P' # string é imutável\n",
    "\n",
    "# 'marca d'água'\n",
    "\"Dias D'Avila\" == 'Dias D\\'Avila'\n",
    "\"Teste \\\" funciona!\"\n",
    "\n",
    "texto = 'Text entre apostrófos pode ter \"aspas\"'\n",
    "texto\n",
    "\n",
    "doc = \"\"\"Texto com múltiplas\n",
    "... linhas\"\"\"\n",
    "doc\n",
    "print('Texto com múltiplas\\n\\t... linhas')\n",
    "print(doc)\n",
    "\n",
    "doc2 = '''Também é possível\n",
    "... com 3 aspas simples'''\n",
    "doc2"
   ]
  },
  {
   "cell_type": "code",
   "execution_count": null,
   "metadata": {},
   "outputs": [
    {
     "data": {
      "text/plain": [
       "'13579'"
      ]
     },
     "execution_count": 12,
     "metadata": {},
     "output_type": "execute_result"
    }
   ],
   "source": [
    "nome = 'Ana Paula'\n",
    "nome[0]\n",
    "nome[6] # o espaço conta\n",
    "nome[-3] # acessando da esquerda pra direita\n",
    "nome[4:] # acessa começando a partir do quatro\n",
    "nome[-5:]\n",
    "nome[:3] # vai do 0 ao 3, desconsidera o indice 3\n",
    "\n",
    "nome[2:5]\n",
    "\n",
    "numeros = '1234567890'\n",
    "numeros\n",
    "numeros[::]\n",
    "numeros[::2] # adiciona steps\n",
    "numeros[1::2]\n",
    "numeros[::-1] # inverte os números\n",
    "numeros[::-2]\n",
    "\n",
    "nome[::-2]"
   ]
  },
  {
   "cell_type": "code",
   "execution_count": 19,
   "metadata": {},
   "outputs": [
    {
     "data": {
      "text/plain": [
       "['PYTHON É UMA LINGUAG', 'M ', 'XC', 'L', 'NT', '']"
      ]
     },
     "execution_count": 19,
     "metadata": {},
     "output_type": "execute_result"
    }
   ],
   "source": [
    "frase = 'Python é uma linguagem excelente'\n",
    "'py' not in frase # está na frase\n",
    "'ing' in frase\n",
    "len(frase) # tamanho da frase\n",
    "# 'py' in frase.lower()\n",
    "frase.lower()\n",
    "frase\n",
    "frase.upper()\n",
    "frase\n",
    "frase = frase.upper()\n",
    "frase\n",
    "\n",
    "frase.split()\n",
    "frase.split('E')\n",
    "\n",
    "# dir(str)\n",
    "# help(str.center)"
   ]
  },
  {
   "cell_type": "code",
   "execution_count": null,
   "metadata": {},
   "outputs": [
    {
     "data": {
      "text/plain": [
       "True"
      ]
     },
     "execution_count": 21,
     "metadata": {},
     "output_type": "execute_result"
    }
   ],
   "source": [
    "a = '123'\n",
    "b = ' de Oliveira 4'\n",
    "a + b\n",
    "a.__add__(b)\n",
    "str.__add__(a, b)\n",
    "\n",
    "len(a)\n",
    "a.__len__()\n",
    "'1' in a\n",
    "a.__contains__('1')\n",
    "\n",
    "dir(str)"
   ]
  },
  {
   "cell_type": "markdown",
   "metadata": {},
   "source": [
    "# Lista"
   ]
  },
  {
   "cell_type": "code",
   "execution_count": null,
   "metadata": {},
   "outputs": [
    {
     "data": {
      "text/plain": [
       "['Bia', 'Ana', 1]"
      ]
     },
     "execution_count": 28,
     "metadata": {},
     "output_type": "execute_result"
    }
   ],
   "source": [
    "lista = [] # dinamica # aceita vários tipos # mutavel # heterogeneo # aumenta e diminui seu tamanho \n",
    "type(lista)\n",
    "dir(lista)\n",
    "len(lista)\n",
    "lista.append(1) # adiciona 1\n",
    "lista.append(5)\n",
    "# lista.append([1, 2, 3])\n",
    "lista\n",
    "len(lista)\n",
    "\n",
    "# não é interessante ter uma lista com valor heterogenea\n",
    "nova_lista = [1, 5, 'Ana', 'Bia']\n",
    "nova_lista\n",
    "nova_lista.remove(5) # remove o elemento 5\n",
    "nova_lista\n",
    "nova_lista.reverse() # altera a lista\n",
    "nova_lista"
   ]
  },
  {
   "cell_type": "code",
   "execution_count": 37,
   "metadata": {},
   "outputs": [
    {
     "data": {
      "text/plain": [
       "1"
      ]
     },
     "execution_count": 37,
     "metadata": {},
     "output_type": "execute_result"
    }
   ],
   "source": [
    "lista = [1, 5, 'Rebeca', 'Guilherme', 3.1415]\n",
    "lista.index('Guilherme') # lista é indexavel\n",
    "# lista.index(42) # dá um erro\n",
    "lista[2]\n",
    "1 in lista\n",
    "'Rebeca' in lista\n",
    "'Pedro' not in lista\n",
    "lista[0]\n",
    "lista[4]\n",
    "# lista[5]\n",
    "lista[-1] # pega o ultimo elemento da lista\n",
    "lista[-5]"
   ]
  },
  {
   "cell_type": "code",
   "execution_count": null,
   "metadata": {},
   "outputs": [],
   "source": [
    "lista = ['Ana', 'Lia', 'Rui', 'Paulo', 'Dani']\n",
    "lista[1:3]\n",
    "lista[1:-1]\n",
    "lista[1:]\n",
    "lista[:-1]\n",
    "lista[:]\n",
    "lista[::2]\n",
    "lista[::-1]\n",
    "del lista[2]\n",
    "lista\n",
    "del lista[1:]\n",
    "lista"
   ]
  },
  {
   "cell_type": "markdown",
   "metadata": {},
   "source": [
    "# Tupla"
   ]
  },
  {
   "cell_type": "code",
   "execution_count": 1,
   "metadata": {},
   "outputs": [
    {
     "data": {
      "text/plain": [
       "4"
      ]
     },
     "execution_count": 1,
     "metadata": {},
     "output_type": "execute_result"
    }
   ],
   "source": [
    "tupla = tuple() # não altera\n",
    "tupla = ()\n",
    "type(tupla)\n",
    "dir(tupla)\n",
    "# help(tuple)\n",
    "tupla = ('um')\n",
    "type(tupla)\n",
    "tupla = ('um',)  # tem que colocar uma virgula\n",
    "type(tupla)\n",
    "tupla[0]\n",
    "# tupla[0] = 'novo'\n",
    "cores = ('verde', 'amarelo', 'azul', 'branco')\n",
    "cores[0]\n",
    "cores[-1]\n",
    "cores[1:]\n",
    "\n",
    "cores.index('amarelo')\n",
    "cores.count('Azul')\n",
    "len(cores)"
   ]
  },
  {
   "cell_type": "markdown",
   "metadata": {},
   "source": [
    "# Dicionário"
   ]
  },
  {
   "cell_type": "code",
   "execution_count": 7,
   "metadata": {},
   "outputs": [
    {
     "data": {
      "text/plain": [
       "[]"
      ]
     },
     "execution_count": 7,
     "metadata": {},
     "output_type": "execute_result"
    }
   ],
   "source": [
    "pessoa = {\n",
    "    'nome': 'Prof(a). Ana', \n",
    "    'idade': 38, \n",
    "    'cursos': ['Inglês', 'Português']\n",
    "}\n",
    "type(pessoa) # dict\n",
    "dir(dict)\n",
    "len(pessoa)\n",
    "\n",
    "pessoa\n",
    "pessoa['nome']\n",
    "pessoa['idade']\n",
    "pessoa['cursos']\n",
    "pessoa['cursos'][1]\n",
    "# pessoa['tags']\n",
    "pessoa.keys() # pega as chaves do dicionário\n",
    "pessoa.values() # pega os valores\n",
    "pessoa.items() # pega os pares chave e valor\n",
    "pessoa.get('idade') # pega idade\n",
    "pessoa.get('tags')\n",
    "pessoa.get('tags', []) # retorna um array vázio"
   ]
  },
  {
   "cell_type": "code",
   "execution_count": null,
   "metadata": {},
   "outputs": [
    {
     "data": {
      "text/plain": [
       "{}"
      ]
     },
     "execution_count": 8,
     "metadata": {},
     "output_type": "execute_result"
    }
   ],
   "source": [
    "pessoa = {'nome': 'Prof. Alberto', 'idade': 43, 'cursos': ['React', 'Python']}\n",
    "pessoa['idade'] = 44\n",
    "pessoa['cursos'].append('Angular')\n",
    "pessoa\n",
    "pessoa.pop('idade')\n",
    "pessoa\n",
    "pessoa.update({'idade': 40, 'Sexo': 'M'})\n",
    "pessoa\n",
    "del pessoa['cursos']\n",
    "pessoa\n",
    "pessoa.clear()\n",
    "pessoa"
   ]
  },
  {
   "cell_type": "markdown",
   "metadata": {},
   "source": [
    "# Conjuntos"
   ]
  },
  {
   "cell_type": "code",
   "execution_count": null,
   "metadata": {},
   "outputs": [
    {
     "name": "stdout",
     "output_type": "stream",
     "text": [
      "{'d', 'o', '3', 'r', 'c'}\n",
      "True True\n"
     ]
    },
    {
     "data": {
      "text/plain": [
       "{1, 3}"
      ]
     },
     "execution_count": 1,
     "metadata": {},
     "output_type": "execute_result"
    }
   ],
   "source": [
    "a = {1, 2, 3}\n",
    "type(a)\n",
    "# a[0] # não se acessa pelo indice\n",
    "a = set('coddddd3r') # elementos duplicados são removidos\n",
    "print(a)\n",
    "print('3' in a, 4 not in a)\n",
    "{1, 2, 3} == {3, 2, 1, 3}\n",
    "\n",
    "# operacoes\n",
    "c1 = {1, 2}\n",
    "c2 = {2, 3}\n",
    "c1.union(c2) # cria um terceiro conjunto\n",
    "c1.intersection(c2) # interseção, cria um conjunto com o valor presente em ambos\n",
    "c1.update(c2) # nesse caso altera o conjunto 1 c1\n",
    "c1\n",
    "c2 <= c1 # c2 é subconjunto de c1\n",
    "c1 >= c2 # c1 é superconjunto de c2\n",
    "\n",
    "{1, 2, 3} - {2} # diferença do conjunto\n",
    "c1 - c2 # diferença dos conjuntos\n",
    "c1 -= {2}\n",
    "c1"
   ]
  },
  {
   "cell_type": "markdown",
   "metadata": {},
   "source": [
    "# Interpolação"
   ]
  },
  {
   "cell_type": "code",
   "execution_count": 12,
   "metadata": {},
   "outputs": [
    {
     "name": "stdout",
     "output_type": "stream",
     "text": [
      "Nome: Ana Idade: 30\n",
      "Nome: Ana Idade: 30\n",
      "Nome: Ana Idade: 30\n",
      "Nome: Ana Idade: 30\n"
     ]
    }
   ],
   "source": [
    "from string import Template\n",
    "\n",
    "\n",
    "nome, idade = 'Ana', 30 # pode se criar duas variavel na mesma linha\n",
    "\n",
    "print('Nome: %s Idade: %d' % (nome, idade)) # mais antiga\n",
    "print('Nome: {0} Idade: {1}'.format(nome, idade)) # python < 3.6\n",
    "print(f'Nome: {nome} Idade: {idade}') # python >= 3.6\n",
    "\n",
    "s = Template('Nome: $nome Idade: $idade')\n",
    "print(s.substitute(nome=nome, idade=idade))"
   ]
  }
 ],
 "metadata": {
  "kernelspec": {
   "display_name": "Python 3",
   "language": "python",
   "name": "python3"
  },
  "language_info": {
   "codemirror_mode": {
    "name": "ipython",
    "version": 3
   },
   "file_extension": ".py",
   "mimetype": "text/x-python",
   "name": "python",
   "nbconvert_exporter": "python",
   "pygments_lexer": "ipython3",
   "version": "3.13.0"
  }
 },
 "nbformat": 4,
 "nbformat_minor": 2
}
